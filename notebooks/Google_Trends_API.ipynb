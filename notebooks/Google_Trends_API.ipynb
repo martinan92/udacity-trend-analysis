{
 "cells": [
  {
   "cell_type": "code",
   "execution_count": 26,
   "metadata": {},
   "outputs": [],
   "source": [
    "import pandas as pd\n",
    "from pytrends.request import TrendReq\n",
    "pytrends = TrendReq(hl='en-US', tz=360)\n",
    "\n",
    "analysis_time_frame = '2018-01-01 2018-10-31'\n",
    "kw_list = [\"Self Driving Cars\", \"Artificial Intelligence\", \n",
    "           \"IOT\", \"Big Data\"] # Can list up to 5 terms\n"
   ]
  },
  {
   "cell_type": "code",
   "execution_count": 27,
   "metadata": {},
   "outputs": [
    {
     "name": "stdout",
     "output_type": "stream",
     "text": [
      "ATTEMPTING TO RELOAD SAVED QUERY...\n",
      "Querying Google Trends API...\n"
     ]
    },
    {
     "data": {
      "text/html": [
       "<div>\n",
       "<style scoped>\n",
       "    .dataframe tbody tr th:only-of-type {\n",
       "        vertical-align: middle;\n",
       "    }\n",
       "\n",
       "    .dataframe tbody tr th {\n",
       "        vertical-align: top;\n",
       "    }\n",
       "\n",
       "    .dataframe thead th {\n",
       "        text-align: right;\n",
       "    }\n",
       "</style>\n",
       "<table border=\"1\" class=\"dataframe\">\n",
       "  <thead>\n",
       "    <tr style=\"text-align: right;\">\n",
       "      <th></th>\n",
       "      <th>Self Driving Cars</th>\n",
       "      <th>Artificial Intelligence</th>\n",
       "      <th>IOT</th>\n",
       "      <th>Big Data</th>\n",
       "      <th>isPartial</th>\n",
       "    </tr>\n",
       "    <tr>\n",
       "      <th>date</th>\n",
       "      <th></th>\n",
       "      <th></th>\n",
       "      <th></th>\n",
       "      <th></th>\n",
       "      <th></th>\n",
       "    </tr>\n",
       "  </thead>\n",
       "  <tbody>\n",
       "    <tr>\n",
       "      <th>2018-01-07</th>\n",
       "      <td>6</td>\n",
       "      <td>51</td>\n",
       "      <td>97</td>\n",
       "      <td>68</td>\n",
       "      <td>False</td>\n",
       "    </tr>\n",
       "    <tr>\n",
       "      <th>2018-01-14</th>\n",
       "      <td>5</td>\n",
       "      <td>74</td>\n",
       "      <td>94</td>\n",
       "      <td>65</td>\n",
       "      <td>False</td>\n",
       "    </tr>\n",
       "    <tr>\n",
       "      <th>2018-01-21</th>\n",
       "      <td>5</td>\n",
       "      <td>72</td>\n",
       "      <td>95</td>\n",
       "      <td>65</td>\n",
       "      <td>False</td>\n",
       "    </tr>\n",
       "    <tr>\n",
       "      <th>2018-01-28</th>\n",
       "      <td>6</td>\n",
       "      <td>64</td>\n",
       "      <td>94</td>\n",
       "      <td>69</td>\n",
       "      <td>False</td>\n",
       "    </tr>\n",
       "    <tr>\n",
       "      <th>2018-02-04</th>\n",
       "      <td>6</td>\n",
       "      <td>58</td>\n",
       "      <td>95</td>\n",
       "      <td>69</td>\n",
       "      <td>False</td>\n",
       "    </tr>\n",
       "  </tbody>\n",
       "</table>\n",
       "</div>"
      ],
      "text/plain": [
       "            Self Driving Cars  Artificial Intelligence  IOT  Big Data  \\\n",
       "date                                                                    \n",
       "2018-01-07                  6                       51   97        68   \n",
       "2018-01-14                  5                       74   94        65   \n",
       "2018-01-21                  5                       72   95        65   \n",
       "2018-01-28                  6                       64   94        69   \n",
       "2018-02-04                  6                       58   95        69   \n",
       "\n",
       "            isPartial  \n",
       "date                   \n",
       "2018-01-07      False  \n",
       "2018-01-14      False  \n",
       "2018-01-21      False  \n",
       "2018-01-28      False  \n",
       "2018-02-04      False  "
      ]
     },
     "execution_count": 27,
     "metadata": {},
     "output_type": "execute_result"
    }
   ],
   "source": [
    "if __name__ == '__main__':\n",
    "    try:\n",
    "        print(\"ATTEMPTING TO RELOAD SAVED QUERY...\")\n",
    "        df = pd.read_pickle(\"./Data/full_google_weekly_trends_analysis.pkl\")\n",
    "\n",
    "    except FileNotFoundError:\n",
    "        print(\"Querying Google Trends API...\")\n",
    "\n",
    "        # Build payload\n",
    "        pytrends.build_payload(kw_list, cat=0, timeframe=analysis_time_frame, geo='', gprop='')\n",
    "        df = pytrends.interest_over_time()\n",
    "        df.to_pickle(\"./Data/full_google_weekly_trends_analysis.pkl\")  # Save final df locally\n",
    "\n",
    "df.head()"
   ]
  },
  {
   "cell_type": "code",
   "execution_count": null,
   "metadata": {},
   "outputs": [],
   "source": []
  }
 ],
 "metadata": {
  "kernelspec": {
   "display_name": "Python 3",
   "language": "python",
   "name": "python3"
  },
  "language_info": {
   "codemirror_mode": {
    "name": "ipython",
    "version": 3
   },
   "file_extension": ".py",
   "mimetype": "text/x-python",
   "name": "python",
   "nbconvert_exporter": "python",
   "pygments_lexer": "ipython3",
   "version": "3.7.3"
  }
 },
 "nbformat": 4,
 "nbformat_minor": 4
}
